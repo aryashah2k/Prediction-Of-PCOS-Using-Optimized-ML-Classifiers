{
 "cells": [
  {
   "cell_type": "code",
   "execution_count": 1,
   "id": "4a714f36",
   "metadata": {},
   "outputs": [],
   "source": [
    "import pandas as pd"
   ]
  },
  {
   "cell_type": "code",
   "execution_count": 10,
   "id": "1f7a1acd",
   "metadata": {},
   "outputs": [],
   "source": [
    "df=pd.read_csv(\"clean_data.csv\")"
   ]
  },
  {
   "cell_type": "code",
   "execution_count": 11,
   "id": "cf32a5a7",
   "metadata": {},
   "outputs": [
    {
     "data": {
      "text/html": [
       "<div>\n",
       "<style scoped>\n",
       "    .dataframe tbody tr th:only-of-type {\n",
       "        vertical-align: middle;\n",
       "    }\n",
       "\n",
       "    .dataframe tbody tr th {\n",
       "        vertical-align: top;\n",
       "    }\n",
       "\n",
       "    .dataframe thead th {\n",
       "        text-align: right;\n",
       "    }\n",
       "</style>\n",
       "<table border=\"1\" class=\"dataframe\">\n",
       "  <thead>\n",
       "    <tr style=\"text-align: right;\">\n",
       "      <th></th>\n",
       "      <th>PCOS (Y/N)</th>\n",
       "      <th>Follicle No. (R)</th>\n",
       "      <th>Follicle No. (L)</th>\n",
       "      <th>Skin darkening (Y/N)</th>\n",
       "      <th>hair growth(Y/N)</th>\n",
       "      <th>Weight gain(Y/N)</th>\n",
       "      <th>Cycle(R/I)</th>\n",
       "    </tr>\n",
       "  </thead>\n",
       "  <tbody>\n",
       "    <tr>\n",
       "      <th>0</th>\n",
       "      <td>0</td>\n",
       "      <td>3</td>\n",
       "      <td>3</td>\n",
       "      <td>0</td>\n",
       "      <td>0</td>\n",
       "      <td>0</td>\n",
       "      <td>2</td>\n",
       "    </tr>\n",
       "    <tr>\n",
       "      <th>1</th>\n",
       "      <td>0</td>\n",
       "      <td>5</td>\n",
       "      <td>3</td>\n",
       "      <td>0</td>\n",
       "      <td>0</td>\n",
       "      <td>0</td>\n",
       "      <td>2</td>\n",
       "    </tr>\n",
       "    <tr>\n",
       "      <th>2</th>\n",
       "      <td>1</td>\n",
       "      <td>15</td>\n",
       "      <td>13</td>\n",
       "      <td>0</td>\n",
       "      <td>0</td>\n",
       "      <td>0</td>\n",
       "      <td>2</td>\n",
       "    </tr>\n",
       "    <tr>\n",
       "      <th>3</th>\n",
       "      <td>0</td>\n",
       "      <td>2</td>\n",
       "      <td>2</td>\n",
       "      <td>0</td>\n",
       "      <td>0</td>\n",
       "      <td>0</td>\n",
       "      <td>2</td>\n",
       "    </tr>\n",
       "    <tr>\n",
       "      <th>4</th>\n",
       "      <td>0</td>\n",
       "      <td>4</td>\n",
       "      <td>3</td>\n",
       "      <td>0</td>\n",
       "      <td>0</td>\n",
       "      <td>0</td>\n",
       "      <td>2</td>\n",
       "    </tr>\n",
       "  </tbody>\n",
       "</table>\n",
       "</div>"
      ],
      "text/plain": [
       "   PCOS (Y/N)  Follicle No. (R)  Follicle No. (L)  Skin darkening (Y/N)  \\\n",
       "0           0                 3                 3                     0   \n",
       "1           0                 5                 3                     0   \n",
       "2           1                15                13                     0   \n",
       "3           0                 2                 2                     0   \n",
       "4           0                 4                 3                     0   \n",
       "\n",
       "   hair growth(Y/N)  Weight gain(Y/N)  Cycle(R/I)  \n",
       "0                 0                 0           2  \n",
       "1                 0                 0           2  \n",
       "2                 0                 0           2  \n",
       "3                 0                 0           2  \n",
       "4                 0                 0           2  "
      ]
     },
     "execution_count": 11,
     "metadata": {},
     "output_type": "execute_result"
    }
   ],
   "source": [
    "df.head()"
   ]
  },
  {
   "cell_type": "code",
   "execution_count": 12,
   "id": "4ace3424",
   "metadata": {},
   "outputs": [],
   "source": [
    "X=df.drop([\"PCOS (Y/N)\"],axis=1)\n",
    "y = df[[\"PCOS (Y/N)\"]]"
   ]
  },
  {
   "cell_type": "code",
   "execution_count": 13,
   "id": "b44a04ff",
   "metadata": {},
   "outputs": [
    {
     "data": {
      "text/plain": [
       "(534, 6)"
      ]
     },
     "execution_count": 13,
     "metadata": {},
     "output_type": "execute_result"
    }
   ],
   "source": [
    "X.shape"
   ]
  },
  {
   "cell_type": "code",
   "execution_count": 14,
   "id": "859e248c",
   "metadata": {},
   "outputs": [
    {
     "data": {
      "text/plain": [
       "(534, 1)"
      ]
     },
     "execution_count": 14,
     "metadata": {},
     "output_type": "execute_result"
    }
   ],
   "source": [
    "y.shape"
   ]
  },
  {
   "cell_type": "code",
   "execution_count": 16,
   "id": "2b44dc9b",
   "metadata": {},
   "outputs": [],
   "source": [
    "from imblearn.combine import SMOTEENN\n",
    "\n",
    "resample = SMOTEENN(sampling_strategy=1/1, random_state =0)\n",
    "X, y = resample.fit_resample(X, y)"
   ]
  },
  {
   "cell_type": "code",
   "execution_count": 18,
   "id": "617a86be",
   "metadata": {},
   "outputs": [
    {
     "data": {
      "text/plain": [
       "(564, 6)"
      ]
     },
     "execution_count": 18,
     "metadata": {},
     "output_type": "execute_result"
    }
   ],
   "source": [
    "X.shape"
   ]
  },
  {
   "cell_type": "code",
   "execution_count": 19,
   "id": "142de3a6",
   "metadata": {},
   "outputs": [
    {
     "data": {
      "text/plain": [
       "(564, 1)"
      ]
     },
     "execution_count": 19,
     "metadata": {},
     "output_type": "execute_result"
    }
   ],
   "source": [
    "y.shape"
   ]
  },
  {
   "cell_type": "code",
   "execution_count": 22,
   "id": "9650a29c",
   "metadata": {},
   "outputs": [],
   "source": [
    "import sys\n",
    "import pandas as pd\n",
    "import numpy as np\n",
    "import matplotlib.pyplot as plt\n",
    "%matplotlib inline\n",
    "plt.style.use(\"ggplot\")\n",
    "plt.rcParams['figure.figsize'] = (12, 8)\n",
    "import seaborn as sns\n",
    "sns.set(style='whitegrid', color_codes=True)\n",
    "import warnings\n",
    "warnings.filterwarnings('ignore')\n",
    "from sklearn.feature_selection import chi2,f_classif, mutual_info_classif, SelectKBest\n",
    "from sklearn.model_selection import train_test_split, cross_val_score\n",
    "from sklearn.model_selection import RepeatedStratifiedKFold\n",
    "from sklearn.model_selection import StratifiedKFold\n",
    "from yellowbrick.model_selection import CVScores\n",
    "from sklearn.metrics import confusion_matrix"
   ]
  },
  {
   "cell_type": "code",
   "execution_count": 28,
   "id": "822210ed",
   "metadata": {},
   "outputs": [],
   "source": [
    "from yellowbrick.classifier import confusion_matrix\n",
    "\n",
    "def vis_conf(model, X_test, y_test):\n",
    "    plt.figure(figsize=(6, 5))\n",
    "    visualizer = confusion_matrix(\n",
    "        model,\n",
    "        X_test, y_test,\n",
    "        is_fitted=True,\n",
    "        classes=['Negative', 'Positive']\n",
    "    )\n",
    "    visualizer.show();"
   ]
  },
  {
   "cell_type": "code",
   "execution_count": 29,
   "id": "ca955064",
   "metadata": {},
   "outputs": [],
   "source": [
    "def test_results(model, X_test, y_test):\n",
    "    from sklearn.metrics import confusion_matrix\n",
    "    y_pred = model.predict(X_test)\n",
    "    tn, fp, fn, tp = confusion_matrix(y_test, y_pred).ravel()\n",
    "\n",
    "    accuracy = (tp + tn)/(tp + fp + tn + fn)\n",
    "    print(\"Accuracy: \", '{:.2f}'.format(accuracy * 100))\n",
    "    print(\"True Negative:\", tn)\n",
    "    print(\"True Positve:\", tp)\n",
    "    print(\"False Positive:\", fp)\n",
    "    print(\"False Negative:\", fn)\n",
    "    print()\n",
    "    print(\"-------------------------------------------------------\")\n",
    "    print(\"Negative Class Results\")\n",
    "    precision = (tp / (tp + fp)) \n",
    "    recall =  (tp  / (tp + fn)) \n",
    "    f1_score = (2 * (precision * recall) / (precision + recall)) \n",
    "    print(\"Precision (N): \", '{:.2f}'.format(precision * 100))\n",
    "    print(\"Recall (N): \", '{:.2f}'.format(recall * 100))\n",
    "    print(\"F1 Score (N):\" ,  '{:.2f}'.format(f1_score * 100))\n",
    "    print()\n",
    "    print(\"-------------------------------------------------------\")\n",
    "    print(\"Positive Class Results\")\n",
    "    precision = (tn / (tn + fn))\n",
    "    recall =  (tn  / (tn + fp))\n",
    "    f1_score = (2 * (precision * recall) / (precision + recall))\n",
    "    print(\"Precision (P): \", '{:.2f}'.format(precision * 100))\n",
    "    print(\"Recall (P): \", '{:.2f}'.format(recall * 100))\n",
    "    print(\"F1 Score (P):\" , '{:.2f}'.format(f1_score * 100))"
   ]
  },
  {
   "cell_type": "code",
   "execution_count": 23,
   "id": "53d73bfb",
   "metadata": {},
   "outputs": [],
   "source": [
    "X_train, X_test, y_train, y_test = train_test_split(X, y, test_size=0.2, random_state=0, stratify= y)"
   ]
  },
  {
   "cell_type": "code",
   "execution_count": 24,
   "id": "2f2523bc",
   "metadata": {},
   "outputs": [],
   "source": [
    "from sklearn.preprocessing import MinMaxScaler\n",
    "\n",
    "scaler = MinMaxScaler().fit(X_train)\n",
    "\n",
    "X_train = scaler.transform(X_train)\n",
    "X_train = pd.DataFrame(X_train)\n",
    "\n",
    "X_test = scaler.transform(X_test)\n",
    "X_test = pd.DataFrame(X_test)\n",
    "\n",
    "\n",
    "# Setting Column Names from dataset\n",
    "X_train.columns = X.columns\n",
    "X_test.columns = X.columns"
   ]
  },
  {
   "cell_type": "code",
   "execution_count": 25,
   "id": "fdcd8070",
   "metadata": {},
   "outputs": [],
   "source": [
    "from sklearn.svm import SVC"
   ]
  },
  {
   "cell_type": "code",
   "execution_count": 26,
   "id": "cc0d7c1f",
   "metadata": {},
   "outputs": [],
   "source": [
    "svm = SVC(kernel=\"linear\", gamma='auto', probability= True, random_state=0)"
   ]
  },
  {
   "cell_type": "code",
   "execution_count": 27,
   "id": "f7d52677",
   "metadata": {},
   "outputs": [
    {
     "data": {
      "text/plain": [
       "SVC(gamma='auto', kernel='linear', probability=True, random_state=0)"
      ]
     },
     "execution_count": 27,
     "metadata": {},
     "output_type": "execute_result"
    }
   ],
   "source": [
    "svm.fit(X_train, y_train)"
   ]
  },
  {
   "cell_type": "code",
   "execution_count": 30,
   "id": "d7b13964",
   "metadata": {},
   "outputs": [
    {
     "name": "stdout",
     "output_type": "stream",
     "text": [
      "Accuracy:  97.35\n",
      "True Negative: 57\n",
      "True Positve: 53\n",
      "False Positive: 2\n",
      "False Negative: 1\n",
      "\n",
      "-------------------------------------------------------\n",
      "Negative Class Results\n",
      "Precision (N):  96.36\n",
      "Recall (N):  98.15\n",
      "F1 Score (N): 97.25\n",
      "\n",
      "-------------------------------------------------------\n",
      "Positive Class Results\n",
      "Precision (P):  98.28\n",
      "Recall (P):  96.61\n",
      "F1 Score (P): 97.44\n"
     ]
    }
   ],
   "source": [
    "test_results(svm, X_test, y_test)"
   ]
  },
  {
   "cell_type": "code",
   "execution_count": 31,
   "id": "24efdb83",
   "metadata": {},
   "outputs": [
    {
     "data": {
      "image/png": "[encoded data removed]",
      "text/plain": [
       "<Figure size 432x360 with 1 Axes>"
      ]
     },
     "metadata": {},
     "output_type": "display_data"
    }
   ],
   "source": [
    "vis_conf(svm, X_test, y_test)"
   ]
  },
  {
   "cell_type": "code",
   "execution_count": 32,
   "id": "f2288b14",
   "metadata": {},
   "outputs": [
    {
     "data": {
      "image/png": "[encoded data removed]",
      "text/plain": [
       "<Figure size 576x396 with 1 Axes>"
      ]
     },
     "metadata": {},
     "output_type": "display_data"
    },
    {
     "data": {
      "text/plain": [
       "<AxesSubplot:title={'center':'Cross Validation Scores for SVC'}, xlabel='Training Instances', ylabel='Score'>"
      ]
     },
     "execution_count": 32,
     "metadata": {},
     "output_type": "execute_result"
    }
   ],
   "source": [
    "cv = StratifiedKFold(\n",
    "    n_splits=15,random_state=0,\n",
    "    shuffle=True\n",
    ") \n",
    "visualizer = CVScores(svm, cv=cv, scoring='f1_weighted', is_fitted=False, stratify = True)\n",
    "visualizer.fit(X, y)        # Fit the data to the visualizer\n",
    "visualizer.show()           # Finalize and render the figure"
   ]
  },
  {
   "cell_type": "code",
   "execution_count": 33,
   "id": "a61c6a3a",
   "metadata": {},
   "outputs": [],
   "source": [
    "from sklearn.neighbors import KNeighborsClassifier"
   ]
  },
  {
   "cell_type": "code",
   "execution_count": 34,
   "id": "90944a80",
   "metadata": {},
   "outputs": [],
   "source": [
    "knn = KNeighborsClassifier(n_neighbors= 9, p = 1, metric= 'minkowski')"
   ]
  },
  {
   "cell_type": "code",
   "execution_count": 35,
   "id": "ac256cb8",
   "metadata": {},
   "outputs": [
    {
     "data": {
      "text/plain": [
       "KNeighborsClassifier(n_neighbors=9, p=1)"
      ]
     },
     "execution_count": 35,
     "metadata": {},
     "output_type": "execute_result"
    }
   ],
   "source": [
    "knn.fit(X_train, y_train)"
   ]
  },
  {
   "cell_type": "code",
   "execution_count": 36,
   "id": "0d509dbb",
   "metadata": {},
   "outputs": [
    {
     "name": "stdout",
     "output_type": "stream",
     "text": [
      "Accuracy:  95.58\n",
      "True Negative: 57\n",
      "True Positve: 51\n",
      "False Positive: 2\n",
      "False Negative: 3\n",
      "\n",
      "-------------------------------------------------------\n",
      "Negative Class Results\n",
      "Precision (N):  96.23\n",
      "Recall (N):  94.44\n",
      "F1 Score (N): 95.33\n",
      "\n",
      "-------------------------------------------------------\n",
      "Positive Class Results\n",
      "Precision (P):  95.00\n",
      "Recall (P):  96.61\n",
      "F1 Score (P): 95.80\n"
     ]
    }
   ],
   "source": [
    "test_results(knn, X_test, y_test)"
   ]
  },
  {
   "cell_type": "code",
   "execution_count": 37,
   "id": "e27efb7f",
   "metadata": {},
   "outputs": [
    {
     "data": {
      "image/png": "[encoded data removed]",
      "text/plain": [
       "<Figure size 432x360 with 1 Axes>"
      ]
     },
     "metadata": {},
     "output_type": "display_data"
    }
   ],
   "source": [
    "vis_conf(knn, X_test, y_test)"
   ]
  },
  {
   "cell_type": "code",
   "execution_count": 38,
   "id": "fae7d6fa",
   "metadata": {},
   "outputs": [],
   "source": [
    "from sklearn.ensemble import RandomForestClassifier"
   ]
  },
  {
   "cell_type": "code",
   "execution_count": 39,
   "id": "b313712f",
   "metadata": {},
   "outputs": [],
   "source": [
    "rf = RandomForestClassifier(n_estimators=1500, criterion=\"entropy\", random_state=0)"
   ]
  },
  {
   "cell_type": "code",
   "execution_count": 40,
   "id": "41b011b4",
   "metadata": {},
   "outputs": [
    {
     "data": {
      "text/plain": [
       "RandomForestClassifier(criterion='entropy', n_estimators=1500, random_state=0)"
      ]
     },
     "execution_count": 40,
     "metadata": {},
     "output_type": "execute_result"
    }
   ],
   "source": [
    "rf.fit(X_train, y_train)"
   ]
  },
  {
   "cell_type": "code",
   "execution_count": 41,
   "id": "f439d2dc",
   "metadata": {},
   "outputs": [
    {
     "name": "stdout",
     "output_type": "stream",
     "text": [
      "Accuracy:  99.12\n",
      "True Negative: 58\n",
      "True Positve: 54\n",
      "False Positive: 1\n",
      "False Negative: 0\n",
      "\n",
      "-------------------------------------------------------\n",
      "Negative Class Results\n",
      "Precision (N):  98.18\n",
      "Recall (N):  100.00\n",
      "F1 Score (N): 99.08\n",
      "\n",
      "-------------------------------------------------------\n",
      "Positive Class Results\n",
      "Precision (P):  100.00\n",
      "Recall (P):  98.31\n",
      "F1 Score (P): 99.15\n"
     ]
    }
   ],
   "source": [
    "test_results(rf, X_test, y_test)"
   ]
  },
  {
   "cell_type": "code",
   "execution_count": 42,
   "id": "39742c20",
   "metadata": {},
   "outputs": [
    {
     "data": {
      "image/png": "[encoded data removed]",
      "text/plain": [
       "<Figure size 432x360 with 1 Axes>"
      ]
     },
     "metadata": {},
     "output_type": "display_data"
    }
   ],
   "source": [
    "vis_conf(rf, X_test, y_test)"
   ]
  },
  {
   "cell_type": "code",
   "execution_count": 43,
   "id": "b6a6afa0",
   "metadata": {},
   "outputs": [
    {
     "data": {
      "image/png": "[encoded data removed]",
      "text/plain": [
       "<Figure size 576x396 with 1 Axes>"
      ]
     },
     "metadata": {},
     "output_type": "display_data"
    },
    {
     "data": {
      "text/plain": [
       "<AxesSubplot:title={'center':'Cross Validation Scores for RandomForestClassifier'}, xlabel='Training Instances', ylabel='Score'>"
      ]
     },
     "execution_count": 43,
     "metadata": {},
     "output_type": "execute_result"
    }
   ],
   "source": [
    "cv = StratifiedKFold(\n",
    "    n_splits=15,random_state=0,\n",
    "    shuffle=True\n",
    ") \n",
    "visualizer = CVScores(rf, cv=cv, scoring='f1_weighted', is_fitted=False, stratify = True)\n",
    "visualizer.fit(X, y)        # Fit the data to the visualizer\n",
    "visualizer.show()           # Finalize and render the figure"
   ]
  },
  {
   "cell_type": "code",
   "execution_count": 55,
   "id": "cdff96f6",
   "metadata": {},
   "outputs": [],
   "source": [
    "X.to_csv(\"X.csv\")"
   ]
  },
  {
   "cell_type": "code",
   "execution_count": 56,
   "id": "f3b05d19",
   "metadata": {},
   "outputs": [],
   "source": [
    "y.to_csv(\"y.csv\")"
   ]
  },
  {
   "cell_type": "code",
   "execution_count": null,
   "id": "d72b7a45",
   "metadata": {},
   "outputs": [],
   "source": []
  }
 ],
 "metadata": {
  "kernelspec": {
   "display_name": "Python [conda env:sandbox]",
   "language": "python",
   "name": "conda-env-sandbox-py"
  },
  "language_info": {
   "codemirror_mode": {
    "name": "ipython",
    "version": 3
   },
   "file_extension": ".py",
   "mimetype": "text/x-python",
   "name": "python",
   "nbconvert_exporter": "python",
   "pygments_lexer": "ipython3",
   "version": "3.7.11"
  }
 },
 "nbformat": 4,
 "nbformat_minor": 5
}
