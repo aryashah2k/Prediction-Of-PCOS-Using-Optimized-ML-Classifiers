{
  "nbformat": 4,
  "nbformat_minor": 0,
  "metadata": {
    "colab": {
      "name": "MLP PCOS",
      "provenance": []
    },
    "kernelspec": {
      "name": "python3",
      "display_name": "Python 3"
    },
    "language_info": {
      "name": "python"
    }
  },
  "cells": [
    {
      "cell_type": "code",
      "metadata": {
        "id": "zOqZHZkeAIUo"
      },
      "source": [
        "import pandas as pd"
      ],
      "execution_count": null,
      "outputs": []
    },
    {
      "cell_type": "code",
      "metadata": {
        "id": "y5z23bX9ETiB"
      },
      "source": [
        "df=pd.read_csv(\"/content/drive/MyDrive/PCOS/clean_data.csv\")"
      ],
      "execution_count": null,
      "outputs": []
    },
    {
      "cell_type": "code",
      "metadata": {
        "id": "gkbBIMoeEWGo"
      },
      "source": [
        "X = df.drop(['PCOS (Y/N)'], axis=1)\n",
        "\n",
        "y = df['PCOS (Y/N)']"
      ],
      "execution_count": null,
      "outputs": []
    },
    {
      "cell_type": "code",
      "metadata": {
        "id": "u0W5c-2XEWEo"
      },
      "source": [
        "from sklearn.model_selection import train_test_split\n",
        "\n",
        "X_train, X_test, y_train, y_test = train_test_split(X, y, test_size = 0.2, random_state = 0)"
      ],
      "execution_count": null,
      "outputs": []
    },
    {
      "cell_type": "code",
      "metadata": {
        "colab": {
          "base_uri": "https://localhost:8080/"
        },
        "id": "SFsjUFXqEWCY",
        "outputId": "461f2f6b-0a94-4d34-c03c-ec755df47026"
      },
      "source": [
        "X_train.shape, X_test.shape"
      ],
      "execution_count": null,
      "outputs": [
        {
          "output_type": "execute_result",
          "data": {
            "text/plain": [
              "((427, 6), (107, 6))"
            ]
          },
          "metadata": {},
          "execution_count": 27
        }
      ]
    },
    {
      "cell_type": "code",
      "metadata": {
        "id": "o7zb03XcEdLa"
      },
      "source": [
        "cols = X_train.columns"
      ],
      "execution_count": null,
      "outputs": []
    },
    {
      "cell_type": "code",
      "metadata": {
        "id": "eO2VNozeEdNo"
      },
      "source": [
        "# Feature Scaling\n",
        "from sklearn.preprocessing import StandardScaler\n",
        "\n",
        "scaler = StandardScaler()\n",
        "\n",
        "X_train = scaler.fit_transform(X_train)\n",
        "\n",
        "X_test = scaler.transform(X_test)"
      ],
      "execution_count": null,
      "outputs": []
    },
    {
      "cell_type": "code",
      "metadata": {
        "id": "7e0v3Jb7EdPq"
      },
      "source": [
        "X_train = pd.DataFrame(X_train, columns=[cols])"
      ],
      "execution_count": null,
      "outputs": []
    },
    {
      "cell_type": "code",
      "metadata": {
        "id": "7O67c0GxEdRo"
      },
      "source": [
        "X_test = pd.DataFrame(X_test, columns=[cols])"
      ],
      "execution_count": null,
      "outputs": []
    },
    {
      "cell_type": "code",
      "metadata": {
        "id": "_iVdlkzeEdTY"
      },
      "source": [
        "def test_results(model, X_test, y_test):\n",
        "    from sklearn.metrics import confusion_matrix\n",
        "    y_pred = model.predict(X_test)\n",
        "    tn, fp, fn, tp = confusion_matrix(y_test, y_pred).ravel()\n",
        "\n",
        "    accuracy = (tp + tn)/(tp + fp + tn + fn)\n",
        "    print(\"Accuracy: \", '{:.2f}'.format(accuracy * 100))\n",
        "    print(\"True Negative:\", tn)\n",
        "    print(\"True Positve:\", tp)\n",
        "    print(\"False Positive:\", fp)\n",
        "    print(\"False Negative:\", fn)\n",
        "    print()\n",
        "    print(\"-------------------------------------------------------\")\n",
        "    print(\"Negative Class Results\")\n",
        "    precision = (tp / (tp + fp)) \n",
        "    recall =  (tp  / (tp + fn)) \n",
        "    f1_score = (2 * (precision * recall) / (precision + recall)) \n",
        "    print(\"Precision (N): \", '{:.2f}'.format(precision * 100))\n",
        "    print(\"Recall (N): \", '{:.2f}'.format(recall * 100))\n",
        "    print(\"F1 Score (N):\" ,  '{:.2f}'.format(f1_score * 100))\n",
        "    print()\n",
        "    print(\"-------------------------------------------------------\")\n",
        "    print(\"Positive Class Results\")\n",
        "    precision = (tn / (tn + fn))\n",
        "    recall =  (tn  / (tn + fp))\n",
        "    f1_score = (2 * (precision * recall) / (precision + recall))\n",
        "    print(\"Precision (P): \", '{:.2f}'.format(precision * 100))\n",
        "    print(\"Recall (P): \", '{:.2f}'.format(recall * 100))\n",
        "    print(\"F1 Score (P):\" , '{:.2f}'.format(f1_score * 100))\n",
        "    print(\"Specificity:\")\n",
        "    specificity = tn / (tn+fp)\n",
        "    print(specificity)\n",
        "    print(\"Sensitivity:\")\n",
        "    sensitivity=tp/(fn+tp)\n",
        "    print(sensitivity)  "
      ],
      "execution_count": null,
      "outputs": []
    },
    {
      "cell_type": "code",
      "metadata": {
        "id": "_e1zPyK4EdVa"
      },
      "source": [
        "from sklearn.neural_network import MLPClassifier"
      ],
      "execution_count": null,
      "outputs": []
    },
    {
      "cell_type": "code",
      "metadata": {
        "id": "Zcvh1817EdXa"
      },
      "source": [
        "mlp = MLPClassifier(hidden_layer_sizes=(60, 60), activation='tanh', solver='adam', \n",
        "                    alpha=0.0001, learning_rate='adaptive', learning_rate_init=0.001, \n",
        "                    power_t=0.5, max_iter=200, shuffle=False, random_state=0, \n",
        "                    tol=0.0001, verbose=False, warm_start=False, momentum=0.9, \n",
        "                    nesterovs_momentum=True, early_stopping=False, validation_fraction=0.1, \n",
        "                    beta_1=0.9, beta_2=0.999, epsilon=1e-08, n_iter_no_change=10, max_fun=15000)"
      ],
      "execution_count": null,
      "outputs": []
    },
    {
      "cell_type": "code",
      "metadata": {
        "colab": {
          "base_uri": "https://localhost:8080/"
        },
        "id": "Jy_hQVlVEdZb",
        "outputId": "f80d2f5a-3698-40a5-eb08-e93bd267b4aa"
      },
      "source": [
        "mlp.fit(X_train, y_train)"
      ],
      "execution_count": null,
      "outputs": [
        {
          "output_type": "stream",
          "name": "stderr",
          "text": [
            "/usr/local/lib/python3.7/dist-packages/sklearn/neural_network/_multilayer_perceptron.py:571: ConvergenceWarning: Stochastic Optimizer: Maximum iterations (200) reached and the optimization hasn't converged yet.\n",
            "  % self.max_iter, ConvergenceWarning)\n"
          ]
        },
        {
          "output_type": "execute_result",
          "data": {
            "text/plain": [
              "MLPClassifier(activation='tanh', alpha=0.0001, batch_size='auto', beta_1=0.9,\n",
              "              beta_2=0.999, early_stopping=False, epsilon=1e-08,\n",
              "              hidden_layer_sizes=(60, 60), learning_rate='adaptive',\n",
              "              learning_rate_init=0.001, max_fun=15000, max_iter=200,\n",
              "              momentum=0.9, n_iter_no_change=10, nesterovs_momentum=True,\n",
              "              power_t=0.5, random_state=0, shuffle=False, solver='adam',\n",
              "              tol=0.0001, validation_fraction=0.1, verbose=False,\n",
              "              warm_start=False)"
            ]
          },
          "metadata": {},
          "execution_count": 53
        }
      ]
    },
    {
      "cell_type": "code",
      "metadata": {
        "colab": {
          "base_uri": "https://localhost:8080/"
        },
        "id": "N1YCrIjwEdbY",
        "outputId": "c3cf05a6-0083-4169-fe37-f705647a40cd"
      },
      "source": [
        "test_results(mlp, X_test, y_test)"
      ],
      "execution_count": null,
      "outputs": [
        {
          "output_type": "stream",
          "name": "stdout",
          "text": [
            "Accuracy:  92.52\n",
            "True Negative: 69\n",
            "True Positve: 30\n",
            "False Positive: 2\n",
            "False Negative: 6\n",
            "\n",
            "-------------------------------------------------------\n",
            "Negative Class Results\n",
            "Precision (N):  93.75\n",
            "Recall (N):  83.33\n",
            "F1 Score (N): 88.24\n",
            "\n",
            "-------------------------------------------------------\n",
            "Positive Class Results\n",
            "Precision (P):  92.00\n",
            "Recall (P):  97.18\n",
            "F1 Score (P): 94.52\n",
            "Specificity:\n",
            "0.971830985915493\n",
            "Sensitivity:\n",
            "0.8333333333333334\n"
          ]
        }
      ]
    },
    {
      "cell_type": "code",
      "metadata": {
        "id": "ee5nFn6PGXI0"
      },
      "source": [
        "mlp1 = MLPClassifier(hidden_layer_sizes=(60, 60), activation='relu', solver='adam', \n",
        "                    alpha=0.0001, learning_rate='adaptive', learning_rate_init=0.001, \n",
        "                    power_t=0.5, max_iter=200, shuffle=False, random_state=0, \n",
        "                    tol=0.0001, verbose=False, warm_start=False, momentum=0.9, \n",
        "                    nesterovs_momentum=True, early_stopping=False, validation_fraction=0.1, \n",
        "                    beta_1=0.9, beta_2=0.999, epsilon=1e-08, n_iter_no_change=10, max_fun=15000)"
      ],
      "execution_count": null,
      "outputs": []
    },
    {
      "cell_type": "code",
      "metadata": {
        "colab": {
          "base_uri": "https://localhost:8080/"
        },
        "id": "Zz_95w8dGXHD",
        "outputId": "a8c844db-1df3-4aa7-8020-3c79fce1c9f1"
      },
      "source": [
        "mlp1.fit(X_train, y_train)"
      ],
      "execution_count": null,
      "outputs": [
        {
          "output_type": "stream",
          "name": "stderr",
          "text": [
            "/usr/local/lib/python3.7/dist-packages/sklearn/neural_network/_multilayer_perceptron.py:571: ConvergenceWarning: Stochastic Optimizer: Maximum iterations (200) reached and the optimization hasn't converged yet.\n",
            "  % self.max_iter, ConvergenceWarning)\n"
          ]
        },
        {
          "output_type": "execute_result",
          "data": {
            "text/plain": [
              "MLPClassifier(activation='relu', alpha=0.0001, batch_size='auto', beta_1=0.9,\n",
              "              beta_2=0.999, early_stopping=False, epsilon=1e-08,\n",
              "              hidden_layer_sizes=(60, 60), learning_rate='adaptive',\n",
              "              learning_rate_init=0.001, max_fun=15000, max_iter=200,\n",
              "              momentum=0.9, n_iter_no_change=10, nesterovs_momentum=True,\n",
              "              power_t=0.5, random_state=0, shuffle=False, solver='adam',\n",
              "              tol=0.0001, validation_fraction=0.1, verbose=False,\n",
              "              warm_start=False)"
            ]
          },
          "metadata": {},
          "execution_count": 47
        }
      ]
    },
    {
      "cell_type": "code",
      "metadata": {
        "colab": {
          "base_uri": "https://localhost:8080/"
        },
        "id": "c-qJrdk6GXFT",
        "outputId": "6bd0b14c-b8e9-40ae-ba42-5d18c5e8c64f"
      },
      "source": [
        "test_results(mlp1, X_test, y_test)"
      ],
      "execution_count": null,
      "outputs": [
        {
          "output_type": "stream",
          "name": "stdout",
          "text": [
            "Accuracy:  87.85\n",
            "True Negative: 67\n",
            "True Positve: 27\n",
            "False Positive: 4\n",
            "False Negative: 9\n",
            "\n",
            "-------------------------------------------------------\n",
            "Negative Class Results\n",
            "Precision (N):  87.10\n",
            "Recall (N):  75.00\n",
            "F1 Score (N): 80.60\n",
            "\n",
            "-------------------------------------------------------\n",
            "Positive Class Results\n",
            "Precision (P):  88.16\n",
            "Recall (P):  94.37\n",
            "F1 Score (P): 91.16\n",
            "Specificity:\n",
            "0.9436619718309859\n",
            "Sensitivity:\n",
            "0.75\n"
          ]
        }
      ]
    },
    {
      "cell_type": "code",
      "metadata": {
        "id": "8YZ4V6w4GXCk"
      },
      "source": [
        ""
      ],
      "execution_count": null,
      "outputs": []
    },
    {
      "cell_type": "code",
      "metadata": {
        "id": "CHJDXVH0GW4b"
      },
      "source": [
        ""
      ],
      "execution_count": null,
      "outputs": []
    }
  ]
}